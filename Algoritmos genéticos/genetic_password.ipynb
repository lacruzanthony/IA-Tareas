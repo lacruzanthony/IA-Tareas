{
 "cells": [
  {
   "cell_type": "markdown",
   "metadata": {},
   "source": [
    "# Ejemplo de algoritmo genético."
   ]
  },
  {
   "cell_type": "code",
   "execution_count": 19,
   "metadata": {},
   "outputs": [
    {
     "name": "stdout",
     "output_type": "stream",
     "text": [
      "solution: \"anjolavy\" de fitness: 87.5\n"
     ]
    },
    {
     "data": {
      "image/png": "[encoded data removed]",
      "text/plain": [
       "<Figure size 432x288 with 1 Axes>"
      ]
     },
     "metadata": {
      "needs_background": "light"
     },
     "output_type": "display_data"
    },
    {
     "data": {
      "image/png": "[encoded data removed]",
      "text/plain": [
       "<Figure size 432x288 with 1 Axes>"
      ]
     },
     "metadata": {
      "needs_background": "light"
     },
     "output_type": "display_data"
    },
    {
     "name": "stdout",
     "output_type": "stream",
     "text": [
      "0.5150253772735596\n"
     ]
    }
   ],
   "source": [
    "#!/usr/bin/python3.5\n",
    "# -*-coding:Utf-8 -*\n",
    "\n",
    "import random\n",
    "import operator\n",
    "import time\n",
    "import matplotlib.pyplot as plt\n",
    "\n",
    "temps1 = time.time()\n",
    "\n",
    "#genetic algorithm function\n",
    "def fitness (password, test_word):\n",
    "\tscore = 0\n",
    "\ti = 0\n",
    "\twhile (i < len(password)):\n",
    "\t\tif (password[i] == test_word[i]):\n",
    "\t\t\tscore+=1\n",
    "\t\ti+=1\n",
    "\treturn score * 100 / len(password)\n",
    "\n",
    "def generateAWord (length):\n",
    "\ti = 0\n",
    "\tresult = \"\"\n",
    "\twhile i < length:\n",
    "\t\tletter = chr(97 + int(26 * random.random()))\n",
    "\t\tresult += letter\n",
    "\t\ti +=1\n",
    "\treturn result\n",
    "\n",
    "def generateFirstPopulation(sizePopulation, password):\n",
    "\tpopulation = []\n",
    "\ti = 0\n",
    "\twhile i < sizePopulation:\n",
    "\t\tpopulation.append(generateAWord(len(password)))\n",
    "\t\ti+=1\n",
    "\treturn population\n",
    "\n",
    "def computePerfPopulation(population, password):\n",
    "\tpopulationPerf = {}\n",
    "\tfor individual in population:\n",
    "\t\tpopulationPerf[individual] = fitness(password, individual)\n",
    "\treturn sorted(populationPerf.items(), key = operator.itemgetter(1), reverse=True)\n",
    "\n",
    "def selectFromPopulation(populationSorted, best_sample, lucky_few):\n",
    "\tnextGeneration = []\n",
    "\tfor i in range(best_sample):\n",
    "\t\tnextGeneration.append(populationSorted[i][0])\n",
    "\tfor i in range(lucky_few):\n",
    "\t\tnextGeneration.append(random.choice(populationSorted)[0])\n",
    "\trandom.shuffle(nextGeneration)\n",
    "\treturn nextGeneration\n",
    "\n",
    "def createChild(individual1, individual2):\n",
    "\tchild = \"\"\n",
    "\tfor i in range(len(individual1)):\n",
    "\t\tif (int(100 * random.random()) < 50):\n",
    "\t\t\tchild += individual1[i]\n",
    "\t\telse:\n",
    "\t\t\tchild += individual2[i]\n",
    "\treturn child\n",
    "\n",
    "def createChildren(breeders, number_of_child):\n",
    "\tnextPopulation = []\n",
    "\tfor i in range(int(len(breeders)/2)):\n",
    "\t\tfor j in range(number_of_child):\n",
    "\t\t\tnextPopulation.append(createChild(breeders[i], breeders[len(breeders) -1 -i]))\n",
    "\treturn nextPopulation\n",
    "\n",
    "def mutateWord(word):\n",
    "\tindex_modification = int(random.random() * len(word))\n",
    "\tif (index_modification == 0):\n",
    "\t\tword = chr(97 + int(26 * random.random())) + word[1:]\n",
    "\telse:\n",
    "\t\tword = word[:index_modification] + chr(97 + int(26 * random.random())) + word[index_modification+1:]\n",
    "\treturn word\n",
    "\t\n",
    "def mutatePopulation(population, chance_of_mutation):\n",
    "\tfor i in range(len(population)):\n",
    "\t\tif random.random() * 100 < chance_of_mutation:\n",
    "\t\t\tpopulation[i] = mutateWord(population[i])\n",
    "\treturn population\n",
    "\n",
    "def nextGeneration (firstGeneration, password, best_sample, lucky_few, number_of_child, chance_of_mutation):\n",
    "\t populationSorted = computePerfPopulation(firstGeneration, password)\n",
    "\t nextBreeders = selectFromPopulation(populationSorted, best_sample, lucky_few)\n",
    "\t nextPopulation = createChildren(nextBreeders, number_of_child)\n",
    "\t nextGeneration = mutatePopulation(nextPopulation, chance_of_mutation)\n",
    "\t return nextGeneration\n",
    "\n",
    "def multipleGeneration(number_of_generation, password, size_population, best_sample, lucky_few, number_of_child, chance_of_mutation):\n",
    "\thistoric = []\n",
    "\thistoric.append(generateFirstPopulation(size_population, password))\n",
    "\tfor i in range (number_of_generation):\n",
    "\t\thistoric.append(nextGeneration(historic[i], password, best_sample, lucky_few, number_of_child, chance_of_mutation))\n",
    "\treturn historic\n",
    "\n",
    "#print result:\n",
    "def printSimpleResult(historic, password, number_of_generation): #bestSolution in historic. Caution not the last\n",
    "\tresult = getListBestIndividualFromHistorique(historic, password)[number_of_generation-1]\n",
    "\tprint (\"solution: \\\"\" + result[0] + \"\\\" de fitness: \" + str(result[1]))\n",
    "\n",
    "#analysis tools\n",
    "def getBestIndividualFromPopulation (population, password):\n",
    "\treturn computePerfPopulation(population, password)[0]\n",
    "\n",
    "def getListBestIndividualFromHistorique (historic, password):\n",
    "\tbestIndividuals = []\n",
    "\tfor population in historic:\n",
    "\t\tbestIndividuals.append(getBestIndividualFromPopulation(population, password))\n",
    "\treturn bestIndividuals\n",
    "\n",
    "#graph\n",
    "def evolutionBestFitness(historic, password):\n",
    "\tplt.axis([0,len(historic),0,105])\n",
    "\tplt.title(password)\n",
    "\t\n",
    "\tevolutionFitness = []\n",
    "\tfor population in historic:\n",
    "\t\tevolutionFitness.append(getBestIndividualFromPopulation(population, password)[1])\n",
    "\tplt.plot(evolutionFitness)\n",
    "\tplt.ylabel('fitness best individual')\n",
    "\tplt.xlabel('generation')\n",
    "\tplt.show()\n",
    "\n",
    "def evolutionAverageFitness(historic, password, size_population):\n",
    "\tplt.axis([0,len(historic),0,105])\n",
    "\tplt.title(password)\n",
    "\t\n",
    "\tevolutionFitness = []\n",
    "\tfor population in historic:\n",
    "\t\tpopulationPerf = computePerfPopulation(population, password)\n",
    "\t\taverageFitness = 0\n",
    "\t\tfor individual in populationPerf:\n",
    "\t\t\taverageFitness += individual[1]\n",
    "\t\tevolutionFitness.append(averageFitness/size_population)\n",
    "\tplt.plot(evolutionFitness)\n",
    "\tplt.ylabel('Average fitness')\n",
    "\tplt.xlabel('generation')\n",
    "\tplt.show()\n",
    "\n",
    "#variables\n",
    "password = \"banana\"\n",
    "size_population = 100\n",
    "best_sample = 20\n",
    "lucky_few = 20\n",
    "number_of_child = 5\n",
    "number_of_generation = 50\n",
    "chance_of_mutation = 5\n",
    "\n",
    "#program\n",
    "if ((best_sample + lucky_few) / 2 * number_of_child != size_population):\n",
    "\tprint (\"population size not stable\")\n",
    "else:\n",
    "\thistoric = multipleGeneration(number_of_generation, password, size_population, best_sample, lucky_few, number_of_child, chance_of_mutation)\n",
    "\t\n",
    "\tprintSimpleResult(historic, password, number_of_generation)\n",
    "\t\n",
    "\tevolutionBestFitness(historic, password)\n",
    "\tevolutionAverageFitness(historic, password, size_population)\n",
    "\n",
    "print (time.time() - temps1)"
   ]
  },
  {
   "cell_type": "code",
   "execution_count": null,
   "metadata": {},
   "outputs": [],
   "source": []
  },
  {
   "cell_type": "code",
   "execution_count": null,
   "metadata": {},
   "outputs": [],
   "source": []
  }
 ],
 "metadata": {
  "kernelspec": {
   "display_name": "Python 3",
   "language": "python",
   "name": "python3"
  },
  "language_info": {
   "codemirror_mode": {
    "name": "ipython",
    "version": 3
   },
   "file_extension": ".py",
   "mimetype": "text/x-python",
   "name": "python",
   "nbconvert_exporter": "python",
   "pygments_lexer": "ipython3",
   "version": "3.7.0"
  }
 },
 "nbformat": 4,
 "nbformat_minor": 2
}
